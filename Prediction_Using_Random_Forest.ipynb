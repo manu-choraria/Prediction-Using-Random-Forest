{
  "nbformat": 4,
  "nbformat_minor": 0,
  "metadata": {
    "colab": {
      "name": "Prediction Using Random Forest.ipynb",
      "provenance": [],
      "collapsed_sections": [],
      "include_colab_link": true
    },
    "kernelspec": {
      "name": "python3",
      "display_name": "Python 3"
    },
    "language_info": {
      "name": "python"
    }
  },
  "cells": [
    {
      "cell_type": "markdown",
      "metadata": {
        "id": "view-in-github",
        "colab_type": "text"
      },
      "source": [
        "<a href=\"https://colab.research.google.com/github/manu-choraria/Prediction-Using-Random-Forest/blob/main/Prediction_Using_Random_Forest.ipynb\" target=\"_parent\"><img src=\"https://colab.research.google.com/assets/colab-badge.svg\" alt=\"Open In Colab\"/></a>"
      ]
    },
    {
      "cell_type": "code",
      "execution_count": null,
      "metadata": {
        "id": "DuRF3JVG-Fl3"
      },
      "outputs": [],
      "source": [
        "import pandas as pd\n",
        "from sklearn.metrics import mean_absolute_error\n",
        "from sklearn.model_selection import train_test_split\n",
        "college_path = ('College_Data.csv')\n",
        "college_data = pd.read_csv(college_path)"
      ]
    },
    {
      "cell_type": "code",
      "source": [
        "# y = college_data.Grad_Rate\n",
        "labels = list(college_data['Grad_Rate'])"
      ],
      "metadata": {
        "id": "HSu_6TPwJ2dG"
      },
      "execution_count": null,
      "outputs": []
    },
    {
      "cell_type": "code",
      "source": [
        "# X = college_data[features]\n",
        "features = list(zip(college_data['Apps'], college_data['Accept'], college_data['Enroll'], college_data['Top10perc'], college_data['Top25perc'], college_data['F.Undergrad']\n",
        "            , college_data['P.Undergrad'],college_data['Outstate'],college_data['Room.Board'],college_data['Books'],college_data['Personal'],college_data['PhD']\n",
        "            ,college_data['Terminal'],college_data['S.F.Ratio'],college_data['perc.alumni'],college_data['Expend']))\n"
      ],
      "metadata": {
        "id": "uXIJgCyLLAIF"
      },
      "execution_count": null,
      "outputs": []
    },
    {
      "cell_type": "code",
      "source": [
        ""
      ],
      "metadata": {
        "id": "hXjktV-KLGCM"
      },
      "execution_count": null,
      "outputs": []
    },
    {
      "cell_type": "code",
      "source": [
        "train_X, val_X, train_y, val_y = train_test_split(features, labels, random_state=1)"
      ],
      "metadata": {
        "id": "sJ1JF5sFLIKW"
      },
      "execution_count": null,
      "outputs": []
    },
    {
      "cell_type": "code",
      "source": [
        "from sklearn.ensemble import RandomForestRegressor"
      ],
      "metadata": {
        "id": "le2ykS9CLY7_"
      },
      "execution_count": null,
      "outputs": []
    },
    {
      "cell_type": "code",
      "source": [
        "rf_model = RandomForestRegressor(random_state=3)"
      ],
      "metadata": {
        "id": "KEx8WydxLaLn"
      },
      "execution_count": null,
      "outputs": []
    },
    {
      "cell_type": "code",
      "source": [
        "rf_model.fit(train_X,train_y)\n",
        "predictions=rf_model.predict(val_X)"
      ],
      "metadata": {
        "id": "R5kuVeo2Lgt9"
      },
      "execution_count": null,
      "outputs": []
    },
    {
      "cell_type": "code",
      "source": [
        "rf_val_mae = mean_absolute_error(predictions,val_y)"
      ],
      "metadata": {
        "id": "6RERGV2ELi4X"
      },
      "execution_count": null,
      "outputs": []
    },
    {
      "cell_type": "code",
      "source": [
        "print(\"Validation MAE for Random Forest Model: {}\".format(rf_val_mae))"
      ],
      "metadata": {
        "id": "pzNnyjsuLksf",
        "outputId": "08e1a25b-cc69-480b-b491-857b1a5130bd",
        "colab": {
          "base_uri": "https://localhost:8080/"
        }
      },
      "execution_count": null,
      "outputs": [
        {
          "output_type": "stream",
          "name": "stdout",
          "text": [
            "Validation MAE for Random Forest Model: 9.07\n"
          ]
        }
      ]
    },
    {
      "cell_type": "code",
      "source": [
        "print(rf_model.predict([[1500, 1200, 500, 30, 60, 1855, 640, 12800, 4590, 780, 1390, 70, 55, 13.5, 25, 9549]]))"
      ],
      "metadata": {
        "colab": {
          "base_uri": "https://localhost:8080/"
        },
        "id": "WPV02MhtRRxI",
        "outputId": "8e131f16-e9e6-4ebf-88aa-c949c7f99066"
      },
      "execution_count": null,
      "outputs": [
        {
          "output_type": "stream",
          "name": "stdout",
          "text": [
            "[73.45]\n"
          ]
        }
      ]
    }
  ]
}